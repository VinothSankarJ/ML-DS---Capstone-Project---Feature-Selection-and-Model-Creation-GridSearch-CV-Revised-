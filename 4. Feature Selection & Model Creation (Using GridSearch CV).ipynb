{
 "cells": [
  {
   "cell_type": "code",
   "execution_count": 1,
   "id": "9d7af302",
   "metadata": {},
   "outputs": [],
   "source": [
    "import pandas as pd\n",
    "from sklearn.model_selection import train_test_split\n",
    "from sklearn.preprocessing import StandardScaler, LabelEncoder\n",
    "from sklearn.feature_selection import RFE\n",
    "from sklearn.linear_model import LinearRegression\n",
    "from sklearn.tree import DecisionTreeRegressor\n",
    "from sklearn.ensemble import RandomForestRegressor\n",
    "from xgboost import XGBRegressor"
   ]
  },
  {
   "cell_type": "code",
   "execution_count": 2,
   "id": "e176ba3c",
   "metadata": {},
   "outputs": [],
   "source": [
    "# Load Data\n",
    "order_list = pd.read_csv('preprocessed_OrderList.csv')\n",
    "freight_rates = pd.read_csv('preprocessed_FreightRates.csv')\n",
    "wh_costs = pd.read_csv('preprocessed_WhCosts.csv')\n",
    "wh_capacities = pd.read_csv('preprocessed_WhCapacities.csv')\n",
    "products_per_plant = pd.read_csv('preprocessed_ProductsPerPlant.csv')\n",
    "vmi_customers = pd.read_csv('preprocessed_VmiCustomers.csv')\n",
    "plant_ports = pd.read_csv('preprocessed_PlantPorts.csv')"
   ]
  },
  {
   "cell_type": "code",
   "execution_count": 3,
   "id": "47772a67",
   "metadata": {},
   "outputs": [],
   "source": [
    "# Define independent and dependent variables\n",
    "indep_X = order_list[['Ship ahead day count', 'Ship Late Day count', 'Unit quantity', 'Weight']]\n",
    "dep_Y = order_list[['Plant Code']]\n"
   ]
  },
  {
   "cell_type": "code",
   "execution_count": 4,
   "id": "4de88482",
   "metadata": {},
   "outputs": [],
   "source": [
    "# Encode target variable\n",
    "label_encoder = LabelEncoder()\n",
    "dep_Y_encoded = label_encoder.fit_transform(dep_Y.values.ravel())\n"
   ]
  },
  {
   "cell_type": "code",
   "execution_count": 5,
   "id": "2cda05b1",
   "metadata": {},
   "outputs": [],
   "source": [
    "# Split data into training and testing sets\n",
    "X_train, X_test, y_train, y_test = train_test_split(indep_X, dep_Y_encoded, test_size=0.25, random_state=0)"
   ]
  },
  {
   "cell_type": "code",
   "execution_count": 6,
   "id": "c87d33b7",
   "metadata": {},
   "outputs": [],
   "source": [
    "# Scale the numeric features (X_train and X_test)\n",
    "scaler = StandardScaler()\n",
    "X_train_scaled = scaler.fit_transform(X_train)\n",
    "X_test_scaled = scaler.transform(X_test)\n",
    "\n",
    "def rfeFeature(X_train_scaled, y_train, n):\n",
    "    rfelist = []\n",
    "    colnames_list = []\n",
    "    r2_values = []\n",
    "\n",
    "    models = [\n",
    "        LinearRegression(),\n",
    "        DecisionTreeRegressor(random_state=0),\n",
    "        RandomForestRegressor(n_estimators=10, random_state=0),\n",
    "        XGBRegressor(n_jobs=5, learning_rate=0.1, max_depth=10, random_state=1)\n",
    "    ]\n",
    "\n",
    "    for model in models:\n",
    "        log_rfe = RFE(estimator=model, n_features_to_select=n)\n",
    "        log_fit = log_rfe.fit(X_train_scaled, y_train)\n",
    "        log_rfe_feature = log_fit.transform(X_train_scaled)\n",
    "        rfelist.append(log_rfe_feature)\n",
    "\n",
    "        # Get the column names selected by RFE\n",
    "        selected_columns = [col for col, selected in zip(X_train.columns, log_rfe.support_) if selected]\n",
    "        colnames_list.append(selected_columns)\n",
    "\n",
    "        # Fit the model and calculate and store the R2 value\n",
    "        model.fit(X_train_scaled[:, log_rfe.support_], y_train)\n",
    "        X_test_rfe = log_rfe.transform(X_test_scaled)\n",
    "        r2 = model.score(X_test_rfe, y_test)\n",
    "        r2_values.append(r2)\n",
    "\n",
    "    return rfelist, colnames_list, r2_values"
   ]
  },
  {
   "cell_type": "code",
   "execution_count": 7,
   "id": "d6bc44ac",
   "metadata": {},
   "outputs": [],
   "source": [
    "# Call the function with the data\n",
    "rfelist, colnames_list, r2_values = rfeFeature(X_train_scaled, y_train, 5)\n"
   ]
  },
  {
   "cell_type": "code",
   "execution_count": 8,
   "id": "d14fbf37",
   "metadata": {},
   "outputs": [
    {
     "name": "stdout",
     "output_type": "stream",
     "text": [
      "Model: Linear\n",
      "Selected Columns: ['Ship ahead day count', 'Ship Late Day count', 'Unit quantity', 'Weight']\n",
      "R2 Value: 0.08251729791238316\n",
      "\n",
      "Model: Decision\n",
      "Selected Columns: ['Ship ahead day count', 'Ship Late Day count', 'Unit quantity', 'Weight']\n",
      "R2 Value: 0.2033757461986977\n",
      "\n",
      "Model: Random\n",
      "Selected Columns: ['Ship ahead day count', 'Ship Late Day count', 'Unit quantity', 'Weight']\n",
      "R2 Value: 0.5704262041604267\n",
      "\n",
      "Model: XGBoost\n",
      "Selected Columns: ['Ship ahead day count', 'Ship Late Day count', 'Unit quantity', 'Weight']\n",
      "R2 Value: 0.5586863548363743\n",
      "\n"
     ]
    }
   ],
   "source": [
    "# Print the selected column names and R2 values for each model\n",
    "for model_name, selected_columns, r2_value in zip([\"Linear\", \"Decision\", \"Random\", \"XGBoost\"], colnames_list, r2_values):\n",
    "    print(f\"Model: {model_name}\")\n",
    "    print(\"Selected Columns:\", selected_columns)\n",
    "    print(f\"R2 Value: {r2_value}\\n\")"
   ]
  },
  {
   "cell_type": "code",
   "execution_count": null,
   "id": "ea222466",
   "metadata": {},
   "outputs": [],
   "source": []
  }
 ],
 "metadata": {
  "kernelspec": {
   "display_name": "Python 3 (ipykernel)",
   "language": "python",
   "name": "python3"
  },
  "language_info": {
   "codemirror_mode": {
    "name": "ipython",
    "version": 3
   },
   "file_extension": ".py",
   "mimetype": "text/x-python",
   "name": "python",
   "nbconvert_exporter": "python",
   "pygments_lexer": "ipython3",
   "version": "3.7.6"
  }
 },
 "nbformat": 4,
 "nbformat_minor": 5
}
